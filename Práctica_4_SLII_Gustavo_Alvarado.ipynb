{
  "nbformat": 4,
  "nbformat_minor": 0,
  "metadata": {
    "colab": {
      "name": "Práctica 4 SLII - Gustavo Alvarado.ipynb",
      "provenance": [],
      "collapsed_sections": []
    },
    "kernelspec": {
      "name": "python3",
      "display_name": "Python 3"
    },
    "language_info": {
      "name": "python"
    }
  },
  "cells": [
    {
      "cell_type": "markdown",
      "source": [
        "# Práctica # 4\n",
        "\n",
        "##### Statistical Learning II\n",
        "##### Gustavo Alvarado\n",
        "##### Carnet # 20063401 "
      ],
      "metadata": {
        "id": "eZwbUd43PrZk"
      }
    },
    {
      "cell_type": "code",
      "execution_count": 1,
      "metadata": {
        "id": "x6pErpfhPYNI"
      },
      "outputs": [],
      "source": [
        "import numpy as np\n",
        "import pandas as pd\n",
        "import io\n",
        "import math\n",
        "import matplotlib.pyplot as plt"
      ]
    },
    {
      "cell_type": "markdown",
      "source": [
        "## Cálculo de la salida de MLP"
      ],
      "metadata": {
        "id": "znFr1uyNQBBx"
      }
    },
    {
      "cell_type": "code",
      "source": [
        "#Función de activación\n",
        "def sigmoid(X):\n",
        "  return 1 / (1 + np.exp(-X))"
      ],
      "metadata": {
        "id": "XtRm6kD_c6nW"
      },
      "execution_count": 2,
      "outputs": []
    },
    {
      "cell_type": "markdown",
      "source": [
        "### Ejercicio 1"
      ],
      "metadata": {
        "id": "y6BQM0EjT_v1"
      }
    },
    {
      "cell_type": "markdown",
      "source": [
        "<img src=\"https://gadictos.com/wp-content/uploads/2019/05/bp1.png\">"
      ],
      "metadata": {
        "id": "0cjxP7iMT8JX"
      }
    },
    {
      "cell_type": "code",
      "source": [
        "Wc1_E1 = np.array([\n",
        "   [0.9, 0.3, 0.2],\n",
        "   [0.8, 0.5, 0.4],\n",
        "   [0.1, 0.6, 0.7]\n",
        "])\n",
        "\n",
        "Wc2_E1 = np.array([0.3, 0.5 ,0.9])\n",
        "\n",
        "X_E1 = np.array([\n",
        "      [1 ,0, 1],\n",
        "      [1, 2, 3],\n",
        "      [4, 5, 6],\n",
        "      [6, 7, 8],\n",
        "])"
      ],
      "metadata": {
        "id": "qBiHcoYYTyMa"
      },
      "execution_count": 61,
      "outputs": []
    },
    {
      "cell_type": "code",
      "source": [
        "H_E1 = np.matmul(X_E1, Wc1_E1)\n",
        "H_E1"
      ],
      "metadata": {
        "colab": {
          "base_uri": "https://localhost:8080/"
        },
        "id": "cYvLj_5YU4Tj",
        "outputId": "fdd666d5-887c-4b04-cfce-84e422cf58dc"
      },
      "execution_count": 62,
      "outputs": [
        {
          "output_type": "execute_result",
          "data": {
            "text/plain": [
              "array([[ 1. ,  0.9,  0.9],\n",
              "       [ 2.8,  3.1,  3.1],\n",
              "       [ 8.2,  7.3,  7. ],\n",
              "       [11.8, 10.1,  9.6]])"
            ]
          },
          "metadata": {},
          "execution_count": 62
        }
      ]
    },
    {
      "cell_type": "code",
      "source": [
        "A_E1 = sigmoid(H_E1)\n",
        "A_E1 "
      ],
      "metadata": {
        "colab": {
          "base_uri": "https://localhost:8080/"
        },
        "id": "CpHNSkW7Vehn",
        "outputId": "b76a9af0-0112-402a-e060-164d96813e58"
      },
      "execution_count": 63,
      "outputs": [
        {
          "output_type": "execute_result",
          "data": {
            "text/plain": [
              "array([[0.73105858, 0.7109495 , 0.7109495 ],\n",
              "       [0.94267582, 0.95689275, 0.95689275],\n",
              "       [0.99972542, 0.99932492, 0.99908895],\n",
              "       [0.9999925 , 0.99995892, 0.99993228]])"
            ]
          },
          "metadata": {},
          "execution_count": 63
        }
      ]
    },
    {
      "cell_type": "code",
      "source": [
        "Y_Prediction_E1 = sigmoid(np.matmul(A_E1, Wc2_E1))\n",
        "Y_Prediction_E1"
      ],
      "metadata": {
        "colab": {
          "base_uri": "https://localhost:8080/"
        },
        "id": "ZTTnD1qZVoyx",
        "outputId": "90131aec-38de-426b-fc56-811b0df2c931"
      },
      "execution_count": 64,
      "outputs": [
        {
          "output_type": "execute_result",
          "data": {
            "text/plain": [
              "array([0.77112013, 0.83513309, 0.84537273, 0.8455238 ])"
            ]
          },
          "metadata": {},
          "execution_count": 64
        }
      ]
    },
    {
      "cell_type": "markdown",
      "source": [
        "### Ejercicio 2"
      ],
      "metadata": {
        "id": "nW55uEV1V_C-"
      }
    },
    {
      "cell_type": "markdown",
      "source": [
        "<img src=\"https://i.imgur.com/IDFRq5a.png\">"
      ],
      "metadata": {
        "id": "6GcEqUlYWEwP"
      }
    },
    {
      "cell_type": "code",
      "source": [
        "Wc1_E2 = np.array([\n",
        "   [0.8 ,0.2],\n",
        "   [0.4, 0.9],\n",
        "   [0.3, 0.5]\n",
        "])\n",
        "\n",
        "Wc2_E2 = np.array([0.3, 0.5, 0.9])\n",
        "\n",
        "X_E2 = np.array([\n",
        "      [1, 1],\n",
        "      [1, 2],\n",
        "      [4, 5],\n",
        "      [6, 7]\n",
        "])"
      ],
      "metadata": {
        "id": "O8bg1vuGWPMg"
      },
      "execution_count": 65,
      "outputs": []
    },
    {
      "cell_type": "code",
      "source": [
        "H_E2 = np.matmul(X_E2, Wc1_E2.T)\n",
        "H_E2"
      ],
      "metadata": {
        "colab": {
          "base_uri": "https://localhost:8080/"
        },
        "id": "4uiZ-FEEWnmA",
        "outputId": "03ce66c1-48f0-420b-e5a4-0cc7c1885307"
      },
      "execution_count": 66,
      "outputs": [
        {
          "output_type": "execute_result",
          "data": {
            "text/plain": [
              "array([[1. , 1.3, 0.8],\n",
              "       [1.2, 2.2, 1.3],\n",
              "       [4.2, 6.1, 3.7],\n",
              "       [6.2, 8.7, 5.3]])"
            ]
          },
          "metadata": {},
          "execution_count": 66
        }
      ]
    },
    {
      "cell_type": "code",
      "source": [
        "A_E2 = sigmoid(H_E2)\n",
        "A_E2 "
      ],
      "metadata": {
        "colab": {
          "base_uri": "https://localhost:8080/"
        },
        "id": "nOSf0YJPWvqQ",
        "outputId": "f5feedb9-0da5-4ee7-9a50-285cf91648fd"
      },
      "execution_count": 67,
      "outputs": [
        {
          "output_type": "execute_result",
          "data": {
            "text/plain": [
              "array([[0.73105858, 0.78583498, 0.68997448],\n",
              "       [0.76852478, 0.90024951, 0.78583498],\n",
              "       [0.98522597, 0.99776215, 0.97587298],\n",
              "       [0.99797468, 0.99983344, 0.9950332 ]])"
            ]
          },
          "metadata": {},
          "execution_count": 67
        }
      ]
    },
    {
      "cell_type": "code",
      "source": [
        "Y_Prediction_E2 = sigmoid(np.matmul(A_E2, Wc2_E2))\n",
        "Y_Prediction_E2"
      ],
      "metadata": {
        "colab": {
          "base_uri": "https://localhost:8080/"
        },
        "id": "7s3qQTnmYU-I",
        "outputId": "804488c4-767d-4396-d066-da3963dd13f4"
      },
      "execution_count": 68,
      "outputs": [
        {
          "output_type": "execute_result",
          "data": {
            "text/plain": [
              "array([0.77438027, 0.80026216, 0.84194007, 0.84485948])"
            ]
          },
          "metadata": {},
          "execution_count": 68
        }
      ]
    },
    {
      "cell_type": "markdown",
      "source": [
        "### Ejercicio 3"
      ],
      "metadata": {
        "id": "1KQRlrz0ZvwB"
      }
    },
    {
      "cell_type": "markdown",
      "source": [
        "<img src=\"https://drive.google.com/uc?export=view&id=1ECUyQHIV0TQXIft793mCuqRx7sIMfKO-\" width=\"600\">\n"
      ],
      "metadata": {
        "id": "5bJqAVX6ZxbZ"
      }
    },
    {
      "cell_type": "code",
      "source": [
        "Wc1_E3 = np.array([\n",
        "   [5, -2, -8],\n",
        "   [7, -3, 1],\n",
        "   [0, 0, 0]\n",
        "])\n",
        "\n",
        "Wc2_E3 = np.array([7, 5, -6])\n",
        "\n",
        "X_E3 = np.array([\n",
        "      [2, 2, 1],\n",
        "      [3, 2, 1],\n",
        "      [7, 5, 1],\n",
        "      [4, 6, 1]\n",
        "])"
      ],
      "metadata": {
        "id": "nnKdBiXFbeK2"
      },
      "execution_count": 70,
      "outputs": []
    },
    {
      "cell_type": "code",
      "source": [
        "H_E3 = np.matmul(X_E3, Wc1_E3.T)\n",
        "H_E3"
      ],
      "metadata": {
        "colab": {
          "base_uri": "https://localhost:8080/"
        },
        "id": "kIFmV_jxbg3q",
        "outputId": "10c9e2f0-5084-4253-feb3-39f78bd9e9c6"
      },
      "execution_count": 71,
      "outputs": [
        {
          "output_type": "execute_result",
          "data": {
            "text/plain": [
              "array([[-2,  9,  0],\n",
              "       [ 3, 16,  0],\n",
              "       [17, 35,  0],\n",
              "       [ 0, 11,  0]])"
            ]
          },
          "metadata": {},
          "execution_count": 71
        }
      ]
    },
    {
      "cell_type": "code",
      "source": [
        "A_E3 = sigmoid(H_E3)\n",
        "A_E3 "
      ],
      "metadata": {
        "colab": {
          "base_uri": "https://localhost:8080/"
        },
        "id": "VqSa2SegbnkY",
        "outputId": "86529056-d082-4029-964b-463076d30078"
      },
      "execution_count": 72,
      "outputs": [
        {
          "output_type": "execute_result",
          "data": {
            "text/plain": [
              "array([[0.11920292, 0.99987661, 0.5       ],\n",
              "       [0.95257413, 0.99999989, 0.5       ],\n",
              "       [0.99999996, 1.        , 0.5       ],\n",
              "       [0.5       , 0.9999833 , 0.5       ]])"
            ]
          },
          "metadata": {},
          "execution_count": 72
        }
      ]
    },
    {
      "cell_type": "code",
      "source": [
        "Y_Prediction_E3 = sigmoid(np.matmul(A_E3, Wc2_E3))\n",
        "Y_Prediction_E3"
      ],
      "metadata": {
        "colab": {
          "base_uri": "https://localhost:8080/"
        },
        "id": "uc6EMFPhbrpA",
        "outputId": "3699f4d3-b62f-491d-e787-fa340c428ffd"
      },
      "execution_count": 73,
      "outputs": [
        {
          "output_type": "execute_result",
          "data": {
            "text/plain": [
              "array([0.9444754 , 0.99982803, 0.99987661, 0.99592952])"
            ]
          },
          "metadata": {},
          "execution_count": 73
        }
      ]
    },
    {
      "cell_type": "markdown",
      "source": [
        "## Función XOR"
      ],
      "metadata": {
        "id": "f0y3wAVpP5U_"
      }
    },
    {
      "cell_type": "code",
      "source": [
        "#Definiendo X y Y para la función XOR\n",
        "\n",
        "X = np.array([[0, 0], [0, 1], [1, 0], [1, 1]])\n",
        "Y = np.array([[0], [1], [1], [0]])"
      ],
      "metadata": {
        "id": "OTgpYDuxPpuu"
      },
      "execution_count": 17,
      "outputs": []
    },
    {
      "cell_type": "code",
      "source": [
        "#Derivada de la función de activación\n",
        "def derivateSigmoid(X):\n",
        "  return X * (1 - X)"
      ],
      "metadata": {
        "id": "eXDBGY7vfO-Q"
      },
      "execution_count": 18,
      "outputs": []
    },
    {
      "cell_type": "code",
      "source": [
        "#Función de entrenamiento\n",
        "\n",
        "def MLPTraining(X, Y, lr, EPOCHS):\n",
        "\n",
        "  h_Weight = np.random.uniform(size = (2, 2))\n",
        "  Y_Weight = np.random.uniform(size = (2, 1))\n",
        "\n",
        "  h_Bias = np.random.uniform(size = (1, 2))\n",
        "  Y_Bias = np.random.uniform(size = (1, 1))\n",
        "\n",
        "  loss = 0\n",
        "\n",
        "  for epoch in range(EPOCHS): \n",
        "\n",
        "    #wX + b\n",
        "    h = np.dot(X, h_Weight) + h_Bias\n",
        "    h_Output = sigmoid(h)\n",
        "    \n",
        "    Y_Output = np.dot(h_Output, Y_Weight) + Y_Bias\n",
        "    Y_Estimated = sigmoid(Y_Output)\n",
        "\n",
        "    #Calcuando MSE del error cuadrado\n",
        "    loss = 0.5 * (Y - Y_Estimated) ** 2\n",
        "    error = Y - Y_Estimated\n",
        "\n",
        "    #Calculando gradientes\n",
        "    h_Gradient = np.matmul(X.T, ((error * derivateSigmoid(Y_Estimated)) * Y_Weight.T) * derivateSigmoid(h_Output))\n",
        "    Y_Gradient = np.matmul(h_Output.T, error * derivateSigmoid(Y_Estimated))\n",
        "\n",
        "    #Actualizando weights\n",
        "    h_Weight += lr * h_Gradient\n",
        "    Y_Weight += lr * Y_Gradient \n",
        "\n",
        "    #Actualizando biases\n",
        "    h_Bias += np.sum(lr * ((error * derivateSigmoid(Y_Estimated)) * Y_Weight.T) * derivateSigmoid(h_Output), axis = 0)\n",
        "    Y_Bias += np.sum(lr * error * derivateSigmoid(Y_Estimated), axis = 0)\n",
        "\n",
        "    if epoch % 5000 == 0:\n",
        "      print('Epoch', epoch, 'Loss:', np.sum(loss))\n",
        "\n",
        "  return h_Output, h_Weight, h_Bias, Y_Weight, Y_Bias \n"
      ],
      "metadata": {
        "id": "9OmeyKxaaKNf"
      },
      "execution_count": 28,
      "outputs": []
    },
    {
      "cell_type": "code",
      "source": [
        "h_Output, h_Weight, h_Bias, Y_Weight, Y_Bias = MLPTraining(X, Y, 0.7, 100000)"
      ],
      "metadata": {
        "colab": {
          "base_uri": "https://localhost:8080/"
        },
        "id": "7q8NSsX6aWZL",
        "outputId": "95fbd57d-e1d5-42fa-c621-eb4f1833aa71"
      },
      "execution_count": 30,
      "outputs": [
        {
          "output_type": "stream",
          "name": "stdout",
          "text": [
            "Epoch 0 Loss: 0.6286186058871519\n",
            "Epoch 5000 Loss: 0.0009085322917646869\n",
            "Epoch 10000 Loss: 0.0004037222089469946\n",
            "Epoch 15000 Loss: 0.000257537903730844\n",
            "Epoch 20000 Loss: 0.00018852161799988283\n",
            "Epoch 25000 Loss: 0.00014845476541513\n",
            "Epoch 30000 Loss: 0.00012232396561972857\n",
            "Epoch 35000 Loss: 0.0001039542110543718\n",
            "Epoch 40000 Loss: 9.034421857868705e-05\n",
            "Epoch 45000 Loss: 7.986129933706403e-05\n",
            "Epoch 50000 Loss: 7.154176903844938e-05\n",
            "Epoch 55000 Loss: 6.47804386187091e-05\n",
            "Epoch 60000 Loss: 5.917825154560577e-05\n",
            "Epoch 65000 Loss: 5.446149065499798e-05\n",
            "Epoch 70000 Loss: 5.04361983150564e-05\n",
            "Epoch 75000 Loss: 4.696112528020821e-05\n",
            "Epoch 80000 Loss: 4.3930982493666964e-05\n",
            "Epoch 85000 Loss: 4.126569319371978e-05\n",
            "Epoch 90000 Loss: 3.8903279859495424e-05\n",
            "Epoch 95000 Loss: 3.679502906531156e-05\n"
          ]
        }
      ]
    },
    {
      "cell_type": "code",
      "source": [
        "h_Weight"
      ],
      "metadata": {
        "colab": {
          "base_uri": "https://localhost:8080/"
        },
        "id": "c81HT_OYNBrX",
        "outputId": "20259766-9aab-4231-ffed-7a535c802803"
      },
      "execution_count": 31,
      "outputs": [
        {
          "output_type": "execute_result",
          "data": {
            "text/plain": [
              "array([[5.40262826, 7.27437575],\n",
              "       [5.41014438, 7.30509726]])"
            ]
          },
          "metadata": {},
          "execution_count": 31
        }
      ]
    },
    {
      "cell_type": "code",
      "source": [
        "h_Bias"
      ],
      "metadata": {
        "colab": {
          "base_uri": "https://localhost:8080/"
        },
        "id": "Ef8FCaqczCnG",
        "outputId": "06ef5706-3d0f-41a2-869f-5fd4d1bdb34b"
      },
      "execution_count": 32,
      "outputs": [
        {
          "output_type": "execute_result",
          "data": {
            "text/plain": [
              "array([[-8.28008572, -3.33579772]])"
            ]
          },
          "metadata": {},
          "execution_count": 32
        }
      ]
    },
    {
      "cell_type": "code",
      "source": [
        "Y_Weight"
      ],
      "metadata": {
        "colab": {
          "base_uri": "https://localhost:8080/"
        },
        "id": "NGa6DzrPzGOX",
        "outputId": "6b90d0a2-e451-4488-934c-c9edf47da7a7"
      },
      "execution_count": 33,
      "outputs": [
        {
          "output_type": "execute_result",
          "data": {
            "text/plain": [
              "array([[-12.90695586],\n",
              "       [ 12.21743194]])"
            ]
          },
          "metadata": {},
          "execution_count": 33
        }
      ]
    },
    {
      "cell_type": "code",
      "source": [
        "Y_Bias"
      ],
      "metadata": {
        "colab": {
          "base_uri": "https://localhost:8080/"
        },
        "id": "un9k_C20zIfK",
        "outputId": "57884625-3941-478f-dc0a-a5846ae3db7b"
      },
      "execution_count": 34,
      "outputs": [
        {
          "output_type": "execute_result",
          "data": {
            "text/plain": [
              "array([[-5.76979169]])"
            ]
          },
          "metadata": {},
          "execution_count": 34
        }
      ]
    },
    {
      "cell_type": "code",
      "source": [
        "#Función para clasificación\n",
        "\n",
        "def classify(point, h_Weight, h_Bias, Y_Weight, Y_Bias): \n",
        "\n",
        "  h = np.dot(point, h_Weight) + h_Bias\n",
        "  h_Output = sigmoid(h)\n",
        "    \n",
        "  Y_Output = np.dot(h_Output, Y_Weight) + Y_Bias\n",
        "  Y_Estimated = sigmoid(Y_Output)\n",
        "\n",
        "  if (Y_Estimated) >= 0.5:\n",
        "    return 1\n",
        "  else:\n",
        "    return 0"
      ],
      "metadata": {
        "id": "r7jZmu2FKdYd"
      },
      "execution_count": 35,
      "outputs": []
    },
    {
      "cell_type": "code",
      "source": [
        "classify([0, 0], h_Weight, h_Bias, Y_Weight, Y_Bias)"
      ],
      "metadata": {
        "colab": {
          "base_uri": "https://localhost:8080/"
        },
        "id": "fN4Fzj8yMm4k",
        "outputId": "ebd0da2e-d6ec-476d-ddc0-f7468775c705"
      },
      "execution_count": 36,
      "outputs": [
        {
          "output_type": "execute_result",
          "data": {
            "text/plain": [
              "0"
            ]
          },
          "metadata": {},
          "execution_count": 36
        }
      ]
    },
    {
      "cell_type": "code",
      "source": [
        "classify([0, 1], h_Weight, h_Bias, Y_Weight, Y_Bias)"
      ],
      "metadata": {
        "colab": {
          "base_uri": "https://localhost:8080/"
        },
        "id": "N-ofK6DGzQGt",
        "outputId": "367cf18a-4d0f-4d9a-8358-1f43b29d7426"
      },
      "execution_count": 37,
      "outputs": [
        {
          "output_type": "execute_result",
          "data": {
            "text/plain": [
              "1"
            ]
          },
          "metadata": {},
          "execution_count": 37
        }
      ]
    },
    {
      "cell_type": "code",
      "source": [
        "classify([1, 0], h_Weight, h_Bias, Y_Weight, Y_Bias)"
      ],
      "metadata": {
        "colab": {
          "base_uri": "https://localhost:8080/"
        },
        "id": "vrvzgdPLzXBJ",
        "outputId": "d373534c-9239-45d4-8a48-cc49c9553f7f"
      },
      "execution_count": 38,
      "outputs": [
        {
          "output_type": "execute_result",
          "data": {
            "text/plain": [
              "1"
            ]
          },
          "metadata": {},
          "execution_count": 38
        }
      ]
    },
    {
      "cell_type": "code",
      "source": [
        "classify([1, 1], h_Weight, h_Bias, Y_Weight, Y_Bias)"
      ],
      "metadata": {
        "colab": {
          "base_uri": "https://localhost:8080/"
        },
        "id": "7tYVNmpzzcm1",
        "outputId": "3e75d286-5d3f-4abd-ef9e-c6d7b2db9bf4"
      },
      "execution_count": 39,
      "outputs": [
        {
          "output_type": "execute_result",
          "data": {
            "text/plain": [
              "0"
            ]
          },
          "metadata": {},
          "execution_count": 39
        }
      ]
    },
    {
      "cell_type": "code",
      "source": [
        "#Graficando datos de entrenamiento\n",
        "\n",
        "plt.figure(figsize = (5, 5))\n",
        "plt.scatter(X[:,0], X[:,1,], c = Y)\n",
        "\n",
        "plt.show()"
      ],
      "metadata": {
        "colab": {
          "base_uri": "https://localhost:8080/",
          "height": 320
        },
        "id": "ddkW1fDp_l6l",
        "outputId": "aa8a4019-ba04-43e2-ea13-2c7b15c97748"
      },
      "execution_count": 40,
      "outputs": [
        {
          "output_type": "display_data",
          "data": {
            "text/plain": [
              "<Figure size 360x360 with 1 Axes>"
            ],
            "image/png": "[encoded data removed]"
          },
          "metadata": {
            "needs_background": "light"
          }
        }
      ]
    },
    {
      "cell_type": "code",
      "source": [
        "#Graficando el modelo entrenado\n",
        "\n",
        "Y_Prediction = np.array(\n",
        "    [\n",
        "        [classify([0, 0], h_Weight, h_Bias, Y_Weight, Y_Bias)],\n",
        "        [classify([0, 1], h_Weight, h_Bias, Y_Weight, Y_Bias)],\n",
        "        [classify([1, 0], h_Weight, h_Bias, Y_Weight, Y_Bias)],\n",
        "        [classify([1, 1], h_Weight, h_Bias, Y_Weight, Y_Bias)]\n",
        "    ])\n",
        "\n",
        "plt.figure(figsize = (5, 5))\n",
        "plt.scatter(X[:,0], X[:,1,], c = Y_Prediction)\n",
        "\n",
        "plt.show()"
      ],
      "metadata": {
        "colab": {
          "base_uri": "https://localhost:8080/",
          "height": 320
        },
        "id": "uJi2qcvEzog1",
        "outputId": "eb66f03a-7af8-4cdf-baad-058e213208fe"
      },
      "execution_count": 41,
      "outputs": [
        {
          "output_type": "display_data",
          "data": {
            "text/plain": [
              "<Figure size 360x360 with 1 Axes>"
            ],
            "image/png": "[encoded data removed]"
          },
          "metadata": {
            "needs_background": "light"
          }
        }
      ]
    }
  ]
}