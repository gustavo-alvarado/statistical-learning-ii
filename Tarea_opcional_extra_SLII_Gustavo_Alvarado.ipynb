{
  "nbformat": 4,
  "nbformat_minor": 0,
  "metadata": {
    "colab": {
      "provenance": [],
      "collapsed_sections": []
    },
    "kernelspec": {
      "name": "python3",
      "display_name": "Python 3"
    },
    "language_info": {
      "name": "python"
    }
  },
  "cells": [
    {
      "cell_type": "markdown",
      "source": [
        "# Tarea opcional/extra\n",
        "\n",
        "##### Statistical Learning II\n",
        "##### Gustavo Alvarado\n",
        "##### Carnet # 20063401 "
      ],
      "metadata": {
        "id": "eZwbUd43PrZk"
      }
    },
    {
      "cell_type": "code",
      "execution_count": 2,
      "metadata": {
        "id": "x6pErpfhPYNI"
      },
      "outputs": [],
      "source": [
        "import numpy as np\n",
        "import pandas as pd\n",
        "import io\n",
        "import math\n",
        "import matplotlib.pyplot as plt"
      ]
    },
    {
      "cell_type": "markdown",
      "source": [
        "## Función XOR"
      ],
      "metadata": {
        "id": "f0y3wAVpP5U_"
      }
    },
    {
      "cell_type": "code",
      "source": [
        "#Definiendo X y Y para la función XOR\n",
        "\n",
        "X = np.array([[0, 0], [0, 1], [1, 0], [1, 1]])\n",
        "Y = np.array([[0], [1], [1], [0]])"
      ],
      "metadata": {
        "id": "OTgpYDuxPpuu"
      },
      "execution_count": 3,
      "outputs": []
    },
    {
      "cell_type": "code",
      "source": [
        "#Función de activación\n",
        "def sigmoid(X):\n",
        "  return 1 / (1 + np.exp(-X))"
      ],
      "metadata": {
        "id": "5C9AVZRS337p"
      },
      "execution_count": 7,
      "outputs": []
    },
    {
      "cell_type": "code",
      "source": [
        "#Derivada de la función de activación\n",
        "def derivateSigmoid(X):\n",
        "  return X * (1 - X)"
      ],
      "metadata": {
        "id": "eXDBGY7vfO-Q"
      },
      "execution_count": 4,
      "outputs": []
    },
    {
      "cell_type": "code",
      "source": [
        "#Función de entrenamiento\n",
        "\n",
        "def MLPTraining(X, Y, lr, EPOCHS):\n",
        "\n",
        "  h_Weight = np.random.uniform(size = (2, 2))\n",
        "  Y_Weight = np.random.uniform(size = (2, 1))\n",
        "\n",
        "  h_Bias = np.random.uniform(size = (1, 2))\n",
        "  Y_Bias = np.random.uniform(size = (1, 1))\n",
        "\n",
        "  loss = 0\n",
        "\n",
        "  for epoch in range(EPOCHS): \n",
        "\n",
        "    #wX + b\n",
        "    h = np.dot(X, h_Weight) + h_Bias\n",
        "    h_Output = sigmoid(h)\n",
        "    \n",
        "    Y_Output = np.dot(h_Output, Y_Weight) + Y_Bias\n",
        "    Y_Estimated = sigmoid(Y_Output)\n",
        "\n",
        "    #Calcuando MSE del error cuadrado\n",
        "    loss = 0.5 * (Y - Y_Estimated) ** 2\n",
        "    error = Y - Y_Estimated\n",
        "\n",
        "    #Calculando gradientes\n",
        "    h_Gradient = np.matmul(X.T, ((error * derivateSigmoid(Y_Estimated)) * Y_Weight.T) * derivateSigmoid(h_Output))\n",
        "    Y_Gradient = np.matmul(h_Output.T, error * derivateSigmoid(Y_Estimated))\n",
        "\n",
        "    #Actualizando weights\n",
        "    h_Weight += lr * h_Gradient\n",
        "    Y_Weight += lr * Y_Gradient \n",
        "\n",
        "    #Actualizando biases\n",
        "    h_Bias += np.sum(lr * ((error * derivateSigmoid(Y_Estimated)) * Y_Weight.T) * derivateSigmoid(h_Output), axis = 0)\n",
        "    Y_Bias += np.sum(lr * error * derivateSigmoid(Y_Estimated), axis = 0)\n",
        "\n",
        "    if epoch % 5000 == 0:\n",
        "      print('Epoch', epoch, 'Loss:', np.sum(loss))\n",
        "\n",
        "  return h_Output, h_Weight, h_Bias, Y_Weight, Y_Bias \n"
      ],
      "metadata": {
        "id": "9OmeyKxaaKNf"
      },
      "execution_count": 8,
      "outputs": []
    },
    {
      "cell_type": "code",
      "source": [
        "h_Output, h_Weight, h_Bias, Y_Weight, Y_Bias = MLPTraining(X, Y, 0.7, 100000)"
      ],
      "metadata": {
        "colab": {
          "base_uri": "https://localhost:8080/"
        },
        "id": "7q8NSsX6aWZL",
        "outputId": "41598ba7-f0e3-4c87-caa6-9bcca0f063f4"
      },
      "execution_count": 9,
      "outputs": [
        {
          "output_type": "stream",
          "name": "stdout",
          "text": [
            "Epoch 0 Loss: 0.6985682031231238\n",
            "Epoch 5000 Loss: 0.0008944974941952612\n",
            "Epoch 10000 Loss: 0.0004015350582868192\n",
            "Epoch 15000 Loss: 0.0002568676719418858\n",
            "Epoch 20000 Loss: 0.00018827058527494796\n",
            "Epoch 25000 Loss: 0.00014836155973539495\n",
            "Epoch 30000 Loss: 0.00012230067206336329\n",
            "Epoch 35000 Loss: 0.0001039648633245637\n",
            "Epoch 40000 Loss: 9.037213957877079e-05\n",
            "Epoch 45000 Loss: 7.989806894946003e-05\n",
            "Epoch 50000 Loss: 7.158287683096132e-05\n",
            "Epoch 55000 Loss: 6.482336898418556e-05\n",
            "Epoch 60000 Loss: 5.922156613466253e-05\n",
            "Epoch 65000 Loss: 5.4504358821073256e-05\n",
            "Epoch 70000 Loss: 5.047814389337275e-05\n",
            "Epoch 75000 Loss: 4.700188411588585e-05\n",
            "Epoch 80000 Loss: 4.39704194614854e-05\n",
            "Epoch 85000 Loss: 4.130375248437248e-05\n",
            "Epoch 90000 Loss: 3.893995450734503e-05\n",
            "Epoch 95000 Loss: 3.683034192871154e-05\n"
          ]
        }
      ]
    },
    {
      "cell_type": "code",
      "source": [
        "h_Weight"
      ],
      "metadata": {
        "colab": {
          "base_uri": "https://localhost:8080/"
        },
        "id": "c81HT_OYNBrX",
        "outputId": "53677bd2-b2f1-499b-ec0e-59f5253c331a"
      },
      "execution_count": 10,
      "outputs": [
        {
          "output_type": "execute_result",
          "data": {
            "text/plain": [
              "array([[7.22314372, 5.44549811],\n",
              "       [7.23005789, 5.44729113]])"
            ]
          },
          "metadata": {},
          "execution_count": 10
        }
      ]
    },
    {
      "cell_type": "code",
      "source": [
        "h_Bias"
      ],
      "metadata": {
        "colab": {
          "base_uri": "https://localhost:8080/"
        },
        "id": "Ef8FCaqczCnG",
        "outputId": "f86040b1-7cb8-480d-f114-14280bc0a8e5"
      },
      "execution_count": 11,
      "outputs": [
        {
          "output_type": "execute_result",
          "data": {
            "text/plain": [
              "array([[-3.30302098, -8.33985555]])"
            ]
          },
          "metadata": {},
          "execution_count": 11
        }
      ]
    },
    {
      "cell_type": "code",
      "source": [
        "Y_Weight"
      ],
      "metadata": {
        "colab": {
          "base_uri": "https://localhost:8080/"
        },
        "id": "NGa6DzrPzGOX",
        "outputId": "711cdf88-3b1b-42d9-fa7b-bbb5e4776d1d"
      },
      "execution_count": 12,
      "outputs": [
        {
          "output_type": "execute_result",
          "data": {
            "text/plain": [
              "array([[ 12.2234047 ],\n",
              "       [-12.87840904]])"
            ]
          },
          "metadata": {},
          "execution_count": 12
        }
      ]
    },
    {
      "cell_type": "code",
      "source": [
        "Y_Bias"
      ],
      "metadata": {
        "colab": {
          "base_uri": "https://localhost:8080/"
        },
        "id": "un9k_C20zIfK",
        "outputId": "0a43334a-e41c-44e4-c2b0-a93fa84aca59"
      },
      "execution_count": 13,
      "outputs": [
        {
          "output_type": "execute_result",
          "data": {
            "text/plain": [
              "array([[-5.78386101]])"
            ]
          },
          "metadata": {},
          "execution_count": 13
        }
      ]
    },
    {
      "cell_type": "code",
      "source": [
        "#Función para clasificación\n",
        "\n",
        "def classify(point, h_Weight, h_Bias, Y_Weight, Y_Bias): \n",
        "\n",
        "  h = np.dot(point, h_Weight) + h_Bias\n",
        "  h_Output = sigmoid(h)\n",
        "    \n",
        "  Y_Output = np.dot(h_Output, Y_Weight) + Y_Bias\n",
        "  Y_Estimated = sigmoid(Y_Output)\n",
        "\n",
        "  if (Y_Estimated) >= 0.5:\n",
        "    return 1\n",
        "  else:\n",
        "    return 0"
      ],
      "metadata": {
        "id": "r7jZmu2FKdYd"
      },
      "execution_count": 14,
      "outputs": []
    },
    {
      "cell_type": "code",
      "source": [
        "classify([0, 0], h_Weight, h_Bias, Y_Weight, Y_Bias)"
      ],
      "metadata": {
        "colab": {
          "base_uri": "https://localhost:8080/"
        },
        "id": "fN4Fzj8yMm4k",
        "outputId": "9ba5454e-557a-49e5-ae0a-8d0c204c1b4d"
      },
      "execution_count": 15,
      "outputs": [
        {
          "output_type": "execute_result",
          "data": {
            "text/plain": [
              "0"
            ]
          },
          "metadata": {},
          "execution_count": 15
        }
      ]
    },
    {
      "cell_type": "code",
      "source": [
        "classify([0, 1], h_Weight, h_Bias, Y_Weight, Y_Bias)"
      ],
      "metadata": {
        "colab": {
          "base_uri": "https://localhost:8080/"
        },
        "id": "N-ofK6DGzQGt",
        "outputId": "27b3b0d4-cf89-4df2-ddac-db7e9cda1bb6"
      },
      "execution_count": 16,
      "outputs": [
        {
          "output_type": "execute_result",
          "data": {
            "text/plain": [
              "1"
            ]
          },
          "metadata": {},
          "execution_count": 16
        }
      ]
    },
    {
      "cell_type": "code",
      "source": [
        "classify([1, 0], h_Weight, h_Bias, Y_Weight, Y_Bias)"
      ],
      "metadata": {
        "colab": {
          "base_uri": "https://localhost:8080/"
        },
        "id": "vrvzgdPLzXBJ",
        "outputId": "371915be-d915-4eb9-841f-0f2c979a3273"
      },
      "execution_count": 17,
      "outputs": [
        {
          "output_type": "execute_result",
          "data": {
            "text/plain": [
              "1"
            ]
          },
          "metadata": {},
          "execution_count": 17
        }
      ]
    },
    {
      "cell_type": "code",
      "source": [
        "classify([1, 1], h_Weight, h_Bias, Y_Weight, Y_Bias)"
      ],
      "metadata": {
        "colab": {
          "base_uri": "https://localhost:8080/"
        },
        "id": "7tYVNmpzzcm1",
        "outputId": "96f4e1b0-6fde-4b6d-c253-5dddecf9eed6"
      },
      "execution_count": 18,
      "outputs": [
        {
          "output_type": "execute_result",
          "data": {
            "text/plain": [
              "0"
            ]
          },
          "metadata": {},
          "execution_count": 18
        }
      ]
    },
    {
      "cell_type": "code",
      "source": [
        "#Graficando datos de entrenamiento\n",
        "\n",
        "plt.figure(figsize = (5, 5))\n",
        "plt.scatter(X[:,0], X[:,1,], c = Y)\n",
        "\n",
        "plt.show()"
      ],
      "metadata": {
        "colab": {
          "base_uri": "https://localhost:8080/",
          "height": 320
        },
        "id": "ddkW1fDp_l6l",
        "outputId": "c5e0a1fe-93a0-4a6a-a1fe-2b4e90ac882a"
      },
      "execution_count": 19,
      "outputs": [
        {
          "output_type": "display_data",
          "data": {
            "text/plain": [
              "<Figure size 360x360 with 1 Axes>"
            ],
            "image/png": "[encoded data removed]"
          },
          "metadata": {
            "needs_background": "light"
          }
        }
      ]
    },
    {
      "cell_type": "code",
      "source": [
        "#Graficando el modelo entrenado\n",
        "\n",
        "Y_Prediction = np.array(\n",
        "    [\n",
        "        [classify([0, 0], h_Weight, h_Bias, Y_Weight, Y_Bias)],\n",
        "        [classify([0, 1], h_Weight, h_Bias, Y_Weight, Y_Bias)],\n",
        "        [classify([1, 0], h_Weight, h_Bias, Y_Weight, Y_Bias)],\n",
        "        [classify([1, 1], h_Weight, h_Bias, Y_Weight, Y_Bias)]\n",
        "    ])\n",
        "\n",
        "plt.figure(figsize = (5, 5))\n",
        "plt.scatter(X[:,0], X[:,1,], c = Y_Prediction)\n",
        "\n",
        "plt.show()"
      ],
      "metadata": {
        "colab": {
          "base_uri": "https://localhost:8080/",
          "height": 320
        },
        "id": "uJi2qcvEzog1",
        "outputId": "51bdbfb7-ce94-45d3-8148-f65f3fdc3167"
      },
      "execution_count": 20,
      "outputs": [
        {
          "output_type": "display_data",
          "data": {
            "text/plain": [
              "<Figure size 360x360 with 1 Axes>"
            ],
            "image/png": "[encoded data removed]"
          },
          "metadata": {
            "needs_background": "light"
          }
        }
      ]
    }
  ]
}